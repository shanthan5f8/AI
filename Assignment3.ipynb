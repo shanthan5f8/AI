{
  "nbformat": 4,
  "nbformat_minor": 0,
  "metadata": {
    "colab": {
      "name": "Assignment3.ipynb",
      "provenance": [],
      "authorship_tag": "ABX9TyOS78i/srWUliV382JdnVGC",
      "include_colab_link": true
    },
    "kernelspec": {
      "name": "python3",
      "display_name": "Python 3"
    },
    "language_info": {
      "name": "python"
    }
  },
  "cells": [
    {
      "cell_type": "markdown",
      "metadata": {
        "id": "view-in-github",
        "colab_type": "text"
      },
      "source": [
        "<a href=\"https://colab.research.google.com/github/shanthan5f8/AI/blob/main/Assignment3.ipynb\" target=\"_parent\"><img src=\"https://colab.research.google.com/assets/colab-badge.svg\" alt=\"Open In Colab\"/></a>"
      ]
    },
    {
      "cell_type": "code",
      "metadata": {
        "colab": {
          "base_uri": "https://localhost:8080/"
        },
        "id": "OkKgg6bewLZd",
        "outputId": "2dbe6aed-3afe-41cc-e607-bd1a49b6eb39"
      },
      "source": [
        "import numpy as np\n",
        "import math\n",
        "x=np.random.uniform(-10,10)\n",
        "y=np.random.uniform(-10,10)\n",
        "eta=0.1\n",
        "iter_max=100\n",
        "iter=1\n",
        "while iter<=iter_max :\n",
        " slope_x=6*x\n",
        " slope_y=-5*(math.exp(-y))\n",
        " steplength_x=-eta*slope_x\n",
        " steplength_y=-eta*slope_y\n",
        " x=x+steplength_x\n",
        " y=y+steplength_y\n",
        " iter=iter+1\n",
        "obj=3*x*x+5*(math.exp(-y))+10\n",
        "print(\"objective function = \",round(obj),\"at x=\",round(x),\", y=\",round(y))"
      ],
      "execution_count": 1,
      "outputs": [
        {
          "output_type": "stream",
          "name": "stdout",
          "text": [
            "objective function =  10 at x= 0 , y= 4\n"
          ]
        }
      ]
    }
  ]
}