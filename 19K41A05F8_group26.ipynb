{
  "nbformat": 4,
  "nbformat_minor": 0,
  "metadata": {
    "colab": {
      "name": "19K41A05F8.group26.ipynb",
      "provenance": [],
      "authorship_tag": "ABX9TyNMuUJmWGYYSlYLijkFjTFG",
      "include_colab_link": true
    },
    "kernelspec": {
      "name": "python3",
      "display_name": "Python 3"
    },
    "language_info": {
      "name": "python"
    }
  },
  "cells": [
    {
      "cell_type": "markdown",
      "metadata": {
        "id": "view-in-github",
        "colab_type": "text"
      },
      "source": [
        "<a href=\"https://colab.research.google.com/github/shanthan5f8/AI/blob/main/19K41A05F8_group26.ipynb\" target=\"_parent\"><img src=\"https://colab.research.google.com/assets/colab-badge.svg\" alt=\"Open In Colab\"/></a>"
      ]
    },
    {
      "cell_type": "code",
      "metadata": {
        "colab": {
          "base_uri": "https://localhost:8080/"
        },
        "id": "__heDetGPyol",
        "outputId": "2139632a-43de-407e-8f85-87793cc55b0a"
      },
      "source": [
        "from scipy.optimize import linprog\n",
        "obj=[-50,-120]  #objective function matrix\n",
        "A1=[[7000,2000],[10,30],[1,1]]\n",
        "A2=[700000,1200,110]\n",
        "boundery=[(0,float('inf')),(0,float('inf'))]\n",
        "opt=linprog(c=obj,A_ub=A1,b_ub=A2,A_eq=None,b_eq=None,bounds=boundery,method=\"Simplex\")\n",
        "opt.x\n",
        "print('Area for growing wheat : ',(opt.x[0]))\n",
        "print('Area for growing Barley : ',(opt.x[1]))\n"
      ],
      "execution_count": 2,
      "outputs": [
        {
          "output_type": "stream",
          "text": [
            "Area for growing wheat :  97.89473684210526\n",
            "Area for growing Barley :  7.368421052631579\n"
          ],
          "name": "stdout"
        }
      ]
    }
  ]
}